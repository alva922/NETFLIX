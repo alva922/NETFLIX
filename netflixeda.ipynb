import os
os.chdir('YOURPATH')    # Set working directory
os. getcwd() 
from nltk.corpus import stopwords
import numpy as np
import pandas as pd
import matplotlib.pyplot as plt
import seaborn as sns
import warnings
from wordcloud import WordCloud,STOPWORDS

warnings.filterwarnings("ignore")


netflix_dataset = pd.read_csv('netflix_titles.csv')

netflix_dataset.info()
